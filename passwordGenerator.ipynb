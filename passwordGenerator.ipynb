{
 "cells": [
  {
   "cell_type": "code",
   "execution_count": 12,
   "id": "2edf09ad-18a0-4eb3-9ca4-be5faa4db2cf",
   "metadata": {},
   "outputs": [
    {
     "name": "stdout",
     "output_type": "stream",
     "text": [
      "Generated password: Aa!*g..5`[ha7p:'\n"
     ]
    }
   ],
   "source": [
    "import re\n",
    "import secrets\n",
    "import string\n",
    "\n",
    "def generate_password(length=16, nums=1, special_chars=1, uppercase=1, lowercase=1):\n",
    "    if length < nums + special_chars +uppercase + lowercase:\n",
    "        raise ValueError('Password length is too short for the given constraint')\n",
    "        \n",
    "    letters = string.ascii_letters\n",
    "    digits = string.digits\n",
    "    symbols = string.punctuation\n",
    "\n",
    "    all_characters = letters+digits+symbols\n",
    "\n",
    "    while True:\n",
    "        password = ''.join(secrets.choice(all_characters) for _ in range(length))\n",
    "\n",
    "        constraints = [\n",
    "            (nums, r'\\d'),\n",
    "            (special_chars, fr'[{re.escape(symbols)}]'),\n",
    "            (uppercase, r'[A-Z]'),\n",
    "            (lowercase, r'[a-z]')\n",
    "        ]\n",
    "\n",
    "        if all(count <= len(re.findall(pattern, password)) for count, pattern in constraints):\n",
    "            return password\n",
    "\n",
    "new_password = generate_password()\n",
    "print('Generated password:', new_password)\n",
    "            "
   ]
  }
 ],
 "metadata": {
  "kernelspec": {
   "display_name": "Python [conda env:base] *",
   "language": "python",
   "name": "conda-base-py"
  },
  "language_info": {
   "codemirror_mode": {
    "name": "ipython",
    "version": 3
   },
   "file_extension": ".py",
   "mimetype": "text/x-python",
   "name": "python",
   "nbconvert_exporter": "python",
   "pygments_lexer": "ipython3",
   "version": "3.12.7"
  }
 },
 "nbformat": 4,
 "nbformat_minor": 5
}
